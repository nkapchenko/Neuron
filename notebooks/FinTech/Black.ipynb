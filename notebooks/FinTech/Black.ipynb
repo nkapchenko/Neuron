{
 "cells": [
  {
   "cell_type": "code",
   "execution_count": 1,
   "metadata": {},
   "outputs": [],
   "source": [
    "import numpy as np\n",
    "from numpy import array, exp, sqrt\n",
    "import pandas as pd\n",
    "from copy import deepcopy\n",
    "from fox_toolbox.utils import rates, volatility\n",
    "from neuron.network import Network\n",
    "from itertools import product\n",
    "from datetime import datetime, date\n",
    "from mkt_data import mkt_data\n",
    "\n",
    "import matplotlib.pyplot as plt\n",
    "import matplotlib.cm as cm\n",
    "\n",
    "import seaborn as sns\n",
    "sns.set_context(\"poster\")\n",
    "sns.set(rc={'figure.figsize': (16, 9.)})\n",
    "sns.set_style(\"whitegrid\")\n",
    "\n",
    "np.set_printoptions(precision=5)\n",
    "\n",
    "% load_ext autoreload\n",
    "% autoreload 2"
   ]
  },
  {
   "cell_type": "code",
   "execution_count": 2,
   "metadata": {},
   "outputs": [],
   "source": [
    "strikes = np.linspace(0, 0.2, 3)\n",
    "forwards = np.linspace(0, 0.2, 3)\n",
    "maturities = np.linspace(1,3,3)\n",
    "rs = np.linspace(0, 0.1, 2)"
   ]
  },
  {
   "cell_type": "code",
   "execution_count": 3,
   "metadata": {},
   "outputs": [
    {
     "data": {
      "text/html": [
       "<div>\n",
       "<style scoped>\n",
       "    .dataframe tbody tr th:only-of-type {\n",
       "        vertical-align: middle;\n",
       "    }\n",
       "\n",
       "    .dataframe tbody tr th {\n",
       "        vertical-align: top;\n",
       "    }\n",
       "\n",
       "    .dataframe thead th {\n",
       "        text-align: right;\n",
       "    }\n",
       "</style>\n",
       "<table border=\"1\" class=\"dataframe\">\n",
       "  <thead>\n",
       "    <tr style=\"text-align: right;\">\n",
       "      <th></th>\n",
       "      <th>Strike</th>\n",
       "      <th>Forward</th>\n",
       "      <th>Maturity</th>\n",
       "      <th>Rate</th>\n",
       "    </tr>\n",
       "  </thead>\n",
       "  <tbody>\n",
       "    <tr>\n",
       "      <th>0</th>\n",
       "      <td>0.0</td>\n",
       "      <td>0.0</td>\n",
       "      <td>1.0</td>\n",
       "      <td>0.0</td>\n",
       "    </tr>\n",
       "    <tr>\n",
       "      <th>1</th>\n",
       "      <td>0.0</td>\n",
       "      <td>0.0</td>\n",
       "      <td>1.0</td>\n",
       "      <td>0.1</td>\n",
       "    </tr>\n",
       "    <tr>\n",
       "      <th>2</th>\n",
       "      <td>0.0</td>\n",
       "      <td>0.0</td>\n",
       "      <td>2.0</td>\n",
       "      <td>0.0</td>\n",
       "    </tr>\n",
       "    <tr>\n",
       "      <th>3</th>\n",
       "      <td>0.0</td>\n",
       "      <td>0.0</td>\n",
       "      <td>2.0</td>\n",
       "      <td>0.1</td>\n",
       "    </tr>\n",
       "    <tr>\n",
       "      <th>4</th>\n",
       "      <td>0.0</td>\n",
       "      <td>0.0</td>\n",
       "      <td>3.0</td>\n",
       "      <td>0.0</td>\n",
       "    </tr>\n",
       "    <tr>\n",
       "      <th>5</th>\n",
       "      <td>0.0</td>\n",
       "      <td>0.0</td>\n",
       "      <td>3.0</td>\n",
       "      <td>0.1</td>\n",
       "    </tr>\n",
       "    <tr>\n",
       "      <th>6</th>\n",
       "      <td>0.0</td>\n",
       "      <td>0.1</td>\n",
       "      <td>1.0</td>\n",
       "      <td>0.0</td>\n",
       "    </tr>\n",
       "    <tr>\n",
       "      <th>7</th>\n",
       "      <td>0.0</td>\n",
       "      <td>0.1</td>\n",
       "      <td>1.0</td>\n",
       "      <td>0.1</td>\n",
       "    </tr>\n",
       "    <tr>\n",
       "      <th>8</th>\n",
       "      <td>0.0</td>\n",
       "      <td>0.1</td>\n",
       "      <td>2.0</td>\n",
       "      <td>0.0</td>\n",
       "    </tr>\n",
       "    <tr>\n",
       "      <th>9</th>\n",
       "      <td>0.0</td>\n",
       "      <td>0.1</td>\n",
       "      <td>2.0</td>\n",
       "      <td>0.1</td>\n",
       "    </tr>\n",
       "  </tbody>\n",
       "</table>\n",
       "</div>"
      ],
      "text/plain": [
       "   Strike  Forward  Maturity  Rate\n",
       "0     0.0      0.0       1.0   0.0\n",
       "1     0.0      0.0       1.0   0.1\n",
       "2     0.0      0.0       2.0   0.0\n",
       "3     0.0      0.0       2.0   0.1\n",
       "4     0.0      0.0       3.0   0.0\n",
       "5     0.0      0.0       3.0   0.1\n",
       "6     0.0      0.1       1.0   0.0\n",
       "7     0.0      0.1       1.0   0.1\n",
       "8     0.0      0.1       2.0   0.0\n",
       "9     0.0      0.1       2.0   0.1"
      ]
     },
     "execution_count": 3,
     "metadata": {},
     "output_type": "execute_result"
    }
   ],
   "source": [
    "pd.DataFrame(product(strikes, forwards, maturities, rs), columns=['Strike', 'Forward', 'Maturity', 'Rate']).head(10)"
   ]
  },
  {
   "cell_type": "code",
   "execution_count": 4,
   "metadata": {},
   "outputs": [],
   "source": [
    "swo_df = mkt_data.get_swo_df()\n",
    "# swo_df.drop(['DATE', 'CURRENCY'], axis=1, inplace=True)\n",
    "swo_df = swo_df[swo_df['STRIKE'].notna()]\n",
    "swo_df = swo_df[(swo_df.NVOL != 0)]"
   ]
  },
  {
   "cell_type": "code",
   "execution_count": 5,
   "metadata": {},
   "outputs": [],
   "source": [
    "tenor_to_val = {'1M':  1. / 12, \n",
    "                '2M':  2. /.12, \n",
    "                '3M':  3. /.12, \n",
    "                '6M':  6. / 12, \n",
    "                '9M':  9. / 12,\n",
    "                '1Y':  1.,\n",
    "                '18M': 18. /12,\n",
    "                '2Y':  2.,\n",
    "                '3Y':  3.,\n",
    "                '4Y':  4.,\n",
    "                '5Y':  5.,\n",
    "                '6Y':  6.,\n",
    "                '7Y':  7.,\n",
    "                '8Y':  8.,\n",
    "                '9Y':  9.,\n",
    "                '10Y': 10.,\n",
    "                '11Y': 11.,\n",
    "                '12Y': 12.,\n",
    "                '15Y': 15.,\n",
    "                '20Y': 20.,\n",
    "                '25Y': 25.,}\n",
    "\n",
    "swo_df['expiry'] = swo_df[\"EXPIRY\"].map(tenor_to_val)\n",
    "swo_df['tenor'] = swo_df[\"TENOR\"].map(tenor_to_val)\n",
    "swo_df['fwd'] = swo_df.STRIKE/100. - swo_df.MONEYNESS"
   ]
  },
  {
   "cell_type": "code",
   "execution_count": 6,
   "metadata": {},
   "outputs": [],
   "source": [
    "df = swo_df[(swo_df.DATE == swo_df.DATE[1]) & (swo_df.CURRENCY == 'USD') & (swo_df.EXPIRY == '2Y') & (swo_df.TENOR == '2Y')]"
   ]
  },
  {
   "cell_type": "code",
   "execution_count": 7,
   "metadata": {},
   "outputs": [
    {
     "name": "stderr",
     "output_type": "stream",
     "text": [
      "c:\\users\\mkapchenko\\appdata\\local\\programs\\python\\python37\\lib\\site-packages\\ipykernel_launcher.py:1: SettingWithCopyWarning: \n",
      "A value is trying to be set on a copy of a slice from a DataFrame.\n",
      "Try using .loc[row_indexer,col_indexer] = value instead\n",
      "\n",
      "See the caveats in the documentation: http://pandas.pydata.org/pandas-docs/stable/indexing.html#indexing-view-versus-copy\n",
      "  \"\"\"Entry point for launching an IPython kernel.\n"
     ]
    }
   ],
   "source": [
    "df['Bachelier'] = df.apply(lambda row: volatility.BachelierPrice(row.fwd, row.STRIKE/100., row.NVOL * sqrt(row.expiry), w=np.sign(row.MONEYNESS)), axis=1)"
   ]
  },
  {
   "cell_type": "code",
   "execution_count": 8,
   "metadata": {},
   "outputs": [],
   "source": [
    "dfnn = df.drop(['DATE', 'CURRENCY', 'EXPIRY', 'TENOR', 'NVOL', 'Bachelier', 'fwd'], axis=1)"
   ]
  },
  {
   "cell_type": "code",
   "execution_count": 13,
   "metadata": {},
   "outputs": [],
   "source": [
    "X = dfnn.to_numpy()"
   ]
  },
  {
   "cell_type": "code",
   "execution_count": 14,
   "metadata": {},
   "outputs": [],
   "source": [
    "y = df.Bachelier.to_numpy()\n",
    "y = y.reshape(-1, 1)"
   ]
  },
  {
   "cell_type": "code",
   "execution_count": 15,
   "metadata": {},
   "outputs": [
    {
     "data": {
      "text/html": [
       "<div>\n",
       "<style scoped>\n",
       "    .dataframe tbody tr th:only-of-type {\n",
       "        vertical-align: middle;\n",
       "    }\n",
       "\n",
       "    .dataframe tbody tr th {\n",
       "        vertical-align: top;\n",
       "    }\n",
       "\n",
       "    .dataframe thead th {\n",
       "        text-align: right;\n",
       "    }\n",
       "</style>\n",
       "<table border=\"1\" class=\"dataframe\">\n",
       "  <thead>\n",
       "    <tr style=\"text-align: right;\">\n",
       "      <th></th>\n",
       "      <th></th>\n",
       "      <th>STRIKE</th>\n",
       "      <th>MONEYNESS</th>\n",
       "      <th>expiry</th>\n",
       "      <th>tenor</th>\n",
       "    </tr>\n",
       "    <tr>\n",
       "      <th>DATE</th>\n",
       "      <th>CURRENCY</th>\n",
       "      <th></th>\n",
       "      <th></th>\n",
       "      <th></th>\n",
       "      <th></th>\n",
       "    </tr>\n",
       "  </thead>\n",
       "  <tbody>\n",
       "    <tr>\n",
       "      <th rowspan=\"10\" valign=\"top\">2018-01-03</th>\n",
       "      <th>USD</th>\n",
       "      <td>0.371</td>\n",
       "      <td>-0.0200</td>\n",
       "      <td>2.0</td>\n",
       "      <td>2.0</td>\n",
       "    </tr>\n",
       "    <tr>\n",
       "      <th>USD</th>\n",
       "      <td>1.371</td>\n",
       "      <td>-0.0100</td>\n",
       "      <td>2.0</td>\n",
       "      <td>2.0</td>\n",
       "    </tr>\n",
       "    <tr>\n",
       "      <th>USD</th>\n",
       "      <td>1.871</td>\n",
       "      <td>-0.0050</td>\n",
       "      <td>2.0</td>\n",
       "      <td>2.0</td>\n",
       "    </tr>\n",
       "    <tr>\n",
       "      <th>USD</th>\n",
       "      <td>2.121</td>\n",
       "      <td>-0.0025</td>\n",
       "      <td>2.0</td>\n",
       "      <td>2.0</td>\n",
       "    </tr>\n",
       "    <tr>\n",
       "      <th>USD</th>\n",
       "      <td>2.621</td>\n",
       "      <td>0.0025</td>\n",
       "      <td>2.0</td>\n",
       "      <td>2.0</td>\n",
       "    </tr>\n",
       "    <tr>\n",
       "      <th>USD</th>\n",
       "      <td>2.871</td>\n",
       "      <td>0.0050</td>\n",
       "      <td>2.0</td>\n",
       "      <td>2.0</td>\n",
       "    </tr>\n",
       "    <tr>\n",
       "      <th>USD</th>\n",
       "      <td>3.371</td>\n",
       "      <td>0.0100</td>\n",
       "      <td>2.0</td>\n",
       "      <td>2.0</td>\n",
       "    </tr>\n",
       "    <tr>\n",
       "      <th>USD</th>\n",
       "      <td>4.371</td>\n",
       "      <td>0.0200</td>\n",
       "      <td>2.0</td>\n",
       "      <td>2.0</td>\n",
       "    </tr>\n",
       "    <tr>\n",
       "      <th>USD</th>\n",
       "      <td>5.371</td>\n",
       "      <td>0.0300</td>\n",
       "      <td>2.0</td>\n",
       "      <td>2.0</td>\n",
       "    </tr>\n",
       "    <tr>\n",
       "      <th>USD</th>\n",
       "      <td>6.371</td>\n",
       "      <td>0.0400</td>\n",
       "      <td>2.0</td>\n",
       "      <td>2.0</td>\n",
       "    </tr>\n",
       "  </tbody>\n",
       "</table>\n",
       "</div>"
      ],
      "text/plain": [
       "                     STRIKE  MONEYNESS  expiry  tenor\n",
       "DATE       CURRENCY                                  \n",
       "2018-01-03 USD        0.371    -0.0200     2.0    2.0\n",
       "           USD        1.371    -0.0100     2.0    2.0\n",
       "           USD        1.871    -0.0050     2.0    2.0\n",
       "           USD        2.121    -0.0025     2.0    2.0\n",
       "           USD        2.621     0.0025     2.0    2.0\n",
       "           USD        2.871     0.0050     2.0    2.0\n",
       "           USD        3.371     0.0100     2.0    2.0\n",
       "           USD        4.371     0.0200     2.0    2.0\n",
       "           USD        5.371     0.0300     2.0    2.0\n",
       "           USD        6.371     0.0400     2.0    2.0"
      ]
     },
     "execution_count": 15,
     "metadata": {},
     "output_type": "execute_result"
    }
   ],
   "source": [
    "dfnn"
   ]
  },
  {
   "cell_type": "code",
   "execution_count": 18,
   "metadata": {},
   "outputs": [
    {
     "data": {
      "text/plain": [
       "(10, 4)"
      ]
     },
     "execution_count": 18,
     "metadata": {},
     "output_type": "execute_result"
    }
   ],
   "source": [
    "X.shape"
   ]
  }
 ],
 "metadata": {
  "kernelspec": {
   "display_name": "Python 3",
   "language": "python",
   "name": "python3"
  },
  "language_info": {
   "codemirror_mode": {
    "name": "ipython",
    "version": 3
   },
   "file_extension": ".py",
   "mimetype": "text/x-python",
   "name": "python",
   "nbconvert_exporter": "python",
   "pygments_lexer": "ipython3",
   "version": "3.7.1"
  }
 },
 "nbformat": 4,
 "nbformat_minor": 4
}
