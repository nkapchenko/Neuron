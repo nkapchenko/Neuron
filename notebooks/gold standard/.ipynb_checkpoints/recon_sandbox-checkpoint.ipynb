{
 "cells": [
  {
   "cell_type": "code",
   "execution_count": 1,
   "metadata": {},
   "outputs": [],
   "source": [
    "from neuron.mnist import mnist_loader\n",
    "import neuron.mnist.network_sandbox as network\n",
    "import matplotlib.pyplot as plt\n",
    "import matplotlib.cm as cm\n",
    "import numpy as np\n",
    "import pandas as pd\n",
    "import seaborn as sns\n",
    "\n",
    "from neuron.activation_functions import sigmoid\n",
    "from neuron.mnist import stepik_original as stepik\n",
    "\n",
    "np.set_printoptions(precision=5)\n",
    "\n",
    "% load_ext autoreload\n",
    "% autoreload 2"
   ]
  },
  {
   "cell_type": "markdown",
   "metadata": {},
   "source": [
    "### The networks are fully reconciled. With full data set you may even use different mnist parser. The final weights should be reconciled"
   ]
  },
  {
   "cell_type": "markdown",
   "metadata": {},
   "source": [
    "# PARSE DATA"
   ]
  },
  {
   "cell_type": "code",
   "execution_count": 2,
   "metadata": {},
   "outputs": [],
   "source": [
    "import os\n",
    "os.chdir(\"C:\\\\Users\\\\mkapchenko\\\\Dropbox\\\\perso\\\\GitHub\\\\Neuron\\\\notebooks\")\n",
    "training_data, validation_data, test_data =  mnist_loader.load_data_wrapper()\n",
    "\n",
    "n = 50000\n",
    "nepochs = 30\n",
    "nb_batches = 10\n",
    "batch_size = 784//nb_batches \n",
    "\n",
    "mini_res = list(training_data)[0:n]\n",
    "mini_test = list(test_data)[0:n]\n",
    "\n",
    "# to have the same data\n",
    "minX = np.array(mini_res[0][0])\n",
    "miny = np.array(mini_res[0][1])"
   ]
  },
  {
   "cell_type": "code",
   "execution_count": 3,
   "metadata": {},
   "outputs": [],
   "source": [
    "(X, y), (validation_X, validation_y), (Xtest, ytest) =  mnist_loader.perf_load_data_wrapper()"
   ]
  },
  {
   "cell_type": "code",
   "execution_count": 9,
   "metadata": {},
   "outputs": [],
   "source": [
    "n = 50000\n",
    "(X, y) = (X[0:n], y[0:n])"
   ]
  },
  {
   "cell_type": "markdown",
   "metadata": {},
   "source": [
    "# LEARNING\n",
    "### Neuron"
   ]
  },
  {
   "cell_type": "code",
   "execution_count": 10,
   "metadata": {},
   "outputs": [
    {
     "name": "stdout",
     "output_type": "stream",
     "text": [
      "Initial random state: 1017/10000 classified. Target: 0.21115108893253248\n",
      "Epoch 0 done. Valid: 6859/10000.\n",
      "Epoch 1 done. Valid: 8359/10000.\n",
      "Epoch 2 done. Valid: 8827/10000.\n",
      "Epoch 3 done. Valid: 8944/10000.\n",
      "Epoch 4 done. Valid: 9032/10000.\n",
      "Epoch 5 done. Valid: 9097/10000.\n",
      "Epoch 6 done. Valid: 9120/10000.\n",
      "Epoch 7 done. Valid: 9140/10000.\n",
      "Epoch 8 done. Valid: 9169/10000.\n",
      "Epoch 9 done. Valid: 9185/10000.\n",
      "Epoch 10 done. Valid: 9197/10000.\n",
      "Epoch 11 done. Valid: 9214/10000.\n",
      "Epoch 12 done. Valid: 9223/10000.\n",
      "Epoch 13 done. Valid: 9229/10000.\n",
      "Epoch 14 done. Valid: 9243/10000.\n",
      "Epoch 15 done. Valid: 9255/10000.\n",
      "Epoch 16 done. Valid: 9260/10000.\n",
      "Epoch 17 done. Valid: 9269/10000.\n",
      "Epoch 18 done. Valid: 9279/10000.\n",
      "Epoch 19 done. Valid: 9284/10000.\n",
      "Epoch 20 done. Valid: 9293/10000.\n",
      "Epoch 21 done. Valid: 9300/10000.\n",
      "Epoch 22 done. Valid: 9308/10000.\n",
      "Epoch 23 done. Valid: 9313/10000.\n",
      "Epoch 24 done. Valid: 9319/10000.\n",
      "Epoch 25 done. Valid: 9321/10000.\n",
      "Epoch 26 done. Valid: 9333/10000.\n",
      "Epoch 27 done. Valid: 9335/10000.\n",
      "Epoch 28 done. Valid: 9341/10000.\n",
      "Epoch 29 done. Valid: 9346/10000.\n",
      "Wall time: 1min 38s\n"
     ]
    }
   ],
   "source": [
    "%%time\n",
    "# 28 s\n",
    "# minX, miny = X[0:n], y[0:n]\n",
    "netw = network.Network([784, 30, 10])\n",
    "\n",
    "netw.SGD(X, y, epochs=nepochs, batch_size=batch_size, learning_rate = 3., test_data = (Xtest, ytest));"
   ]
  },
  {
   "cell_type": "markdown",
   "metadata": {},
   "source": [
    "### Stepik"
   ]
  },
  {
   "cell_type": "code",
   "execution_count": 6,
   "metadata": {},
   "outputs": [
    {
     "name": "stdout",
     "output_type": "stream",
     "text": [
      "Epoch 0: 6859 over 10000\n",
      "Epoch 1: 8359 over 10000\n",
      "Epoch 2: 8827 over 10000\n",
      "Epoch 3: 8944 over 10000\n",
      "Epoch 4: 9032 over 10000\n",
      "Epoch 5: 9097 over 10000\n",
      "Epoch 6: 9120 over 10000\n",
      "Epoch 7: 9140 over 10000\n",
      "Epoch 8: 9169 over 10000\n",
      "Epoch 9: 9185 over 10000\n",
      "Epoch 10: 9197 over 10000\n",
      "Epoch 11: 9214 over 10000\n",
      "Epoch 12: 9223 over 10000\n",
      "Epoch 13: 9229 over 10000\n",
      "Epoch 14: 9243 over 10000\n",
      "Epoch 15: 9255 over 10000\n",
      "Epoch 16: 9260 over 10000\n",
      "Epoch 17: 9269 over 10000\n",
      "Epoch 18: 9279 over 10000\n",
      "Epoch 19: 9284 over 10000\n",
      "Epoch 20: 9293 over 10000\n",
      "Epoch 21: 9300 over 10000\n",
      "Epoch 22: 9308 over 10000\n",
      "Epoch 23: 9313 over 10000\n",
      "Epoch 24: 9319 over 10000\n",
      "Epoch 25: 9321 over 10000\n",
      "Epoch 26: 9333 over 10000\n",
      "Epoch 27: 9335 over 10000\n",
      "Epoch 28: 9341 over 10000\n",
      "Epoch 29: 9346 over 10000\n",
      "Wall time: 8min 3s\n"
     ]
    }
   ],
   "source": [
    "%%time\n",
    "# 9min 9s\n",
    "# Stepik network\n",
    "netstepik = stepik.Network([784, 30, 10])\n",
    "netstepik.SGD(mini_res, epochs=nepochs, mini_batch_size=batch_size, eta=3.0, test_data=mini_test)"
   ]
  },
  {
   "cell_type": "markdown",
   "metadata": {},
   "source": [
    "# RECON"
   ]
  },
  {
   "cell_type": "markdown",
   "metadata": {},
   "source": [
    "### Final weights"
   ]
  },
  {
   "cell_type": "code",
   "execution_count": 11,
   "metadata": {},
   "outputs": [
    {
     "name": "stdout",
     "output_type": "stream",
     "text": [
      "Layer 0 recon:  7.515368393847606e-18\n",
      "Layer 1 recon:  4.463385679572459e-16\n"
     ]
    }
   ],
   "source": [
    "for layer in range(2):\n",
    "    print(f'Layer {layer} recon: ' , (netstepik.weights[layer] - netw.weights[layer]).mean())"
   ]
  }
 ],
 "metadata": {
  "kernelspec": {
   "display_name": "Python 3",
   "language": "python",
   "name": "python3"
  },
  "language_info": {
   "codemirror_mode": {
    "name": "ipython",
    "version": 3
   },
   "file_extension": ".py",
   "mimetype": "text/x-python",
   "name": "python",
   "nbconvert_exporter": "python",
   "pygments_lexer": "ipython3",
   "version": "3.7.1"
  }
 },
 "nbformat": 4,
 "nbformat_minor": 4
}
