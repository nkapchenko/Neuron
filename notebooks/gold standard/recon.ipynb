{
 "cells": [
  {
   "cell_type": "code",
   "execution_count": 1,
   "metadata": {},
   "outputs": [],
   "source": [
    "from neuron.mnist import mnist_loader\n",
    "import neuron.mnist.network_standard as network\n",
    "import matplotlib.pyplot as plt\n",
    "import matplotlib.cm as cm\n",
    "import numpy as np\n",
    "import pandas as pd\n",
    "import seaborn as sns\n",
    "\n",
    "from neuron.activation_functions import sigmoid\n",
    "from neuron.mnist import stepik_original as stepik\n",
    "\n",
    "np.set_printoptions(precision=5)\n",
    "\n",
    "% load_ext autoreload\n",
    "% autoreload 2"
   ]
  },
  {
   "cell_type": "markdown",
   "metadata": {},
   "source": [
    "### The networks are fully reconciled. With full data set you may even use different mnist parser. The final weights should be reconciled"
   ]
  },
  {
   "cell_type": "markdown",
   "metadata": {},
   "source": [
    "# PARSE DATA"
   ]
  },
  {
   "cell_type": "code",
   "execution_count": 2,
   "metadata": {},
   "outputs": [],
   "source": [
    "import os\n",
    "os.chdir(\"C:\\\\Users\\\\mkapchenko\\\\Dropbox\\\\perso\\\\GitHub\\\\Neuron\\\\notebooks\")\n",
    "training_data, validation_data, test_data =  mnist_loader.load_data_wrapper()\n",
    "\n",
    "n = 50000\n",
    "nepochs = 30\n",
    "nb_batches = 10\n",
    "batch_size = 784//nb_batches \n",
    "\n",
    "mini_res = list(training_data)[0:n]\n",
    "mini_test = list(test_data)[0:n]\n",
    "\n",
    "# to have the same data\n",
    "minX = np.array(mini_res[0][0])\n",
    "miny = np.array(mini_res[0][1])"
   ]
  },
  {
   "cell_type": "code",
   "execution_count": 3,
   "metadata": {},
   "outputs": [
    {
     "name": "stdout",
     "output_type": "stream",
     "text": [
      "Wall time: 0 ns\n"
     ]
    },
    {
     "ename": "KeyboardInterrupt",
     "evalue": "",
     "output_type": "error",
     "traceback": [
      "\u001b[0;31m---------------------------------------------------------------------------\u001b[0m",
      "\u001b[0;31mKeyboardInterrupt\u001b[0m                         Traceback (most recent call last)",
      "\u001b[0;32m<ipython-input-3-5ec6db12b6a6>\u001b[0m in \u001b[0;36m<module>\u001b[0;34m()\u001b[0m\n\u001b[1;32m      1\u001b[0m \u001b[0mget_ipython\u001b[0m\u001b[0;34m(\u001b[0m\u001b[0;34m)\u001b[0m\u001b[0;34m.\u001b[0m\u001b[0mmagic\u001b[0m\u001b[0;34m(\u001b[0m\u001b[0;34m'time'\u001b[0m\u001b[0;34m)\u001b[0m\u001b[0;34m\u001b[0m\u001b[0;34m\u001b[0m\u001b[0m\n\u001b[1;32m      2\u001b[0m \u001b[0;32mfor\u001b[0m \u001b[0mexample\u001b[0m \u001b[0;32min\u001b[0m \u001b[0mrange\u001b[0m\u001b[0;34m(\u001b[0m\u001b[0;36m1\u001b[0m\u001b[0;34m,\u001b[0m \u001b[0mlen\u001b[0m\u001b[0;34m(\u001b[0m\u001b[0mmini_res\u001b[0m\u001b[0;34m)\u001b[0m\u001b[0;34m)\u001b[0m\u001b[0;34m:\u001b[0m\u001b[0;34m\u001b[0m\u001b[0;34m\u001b[0m\u001b[0m\n\u001b[0;32m----> 3\u001b[0;31m     \u001b[0mminX\u001b[0m \u001b[0;34m=\u001b[0m \u001b[0mnp\u001b[0m\u001b[0;34m.\u001b[0m\u001b[0mconcatenate\u001b[0m\u001b[0;34m(\u001b[0m\u001b[0;34m(\u001b[0m\u001b[0mminX\u001b[0m\u001b[0;34m,\u001b[0m \u001b[0mmini_res\u001b[0m\u001b[0;34m[\u001b[0m\u001b[0mexample\u001b[0m\u001b[0;34m]\u001b[0m\u001b[0;34m[\u001b[0m\u001b[0;36m0\u001b[0m\u001b[0;34m]\u001b[0m\u001b[0;34m)\u001b[0m\u001b[0;34m,\u001b[0m \u001b[0maxis\u001b[0m\u001b[0;34m=\u001b[0m\u001b[0;36m1\u001b[0m\u001b[0;34m)\u001b[0m\u001b[0;34m\u001b[0m\u001b[0;34m\u001b[0m\u001b[0m\n\u001b[0m\u001b[1;32m      4\u001b[0m     \u001b[0mminy\u001b[0m \u001b[0;34m=\u001b[0m \u001b[0mnp\u001b[0m\u001b[0;34m.\u001b[0m\u001b[0mconcatenate\u001b[0m\u001b[0;34m(\u001b[0m\u001b[0;34m(\u001b[0m\u001b[0mminy\u001b[0m\u001b[0;34m,\u001b[0m \u001b[0mmini_res\u001b[0m\u001b[0;34m[\u001b[0m\u001b[0mexample\u001b[0m\u001b[0;34m]\u001b[0m\u001b[0;34m[\u001b[0m\u001b[0;36m1\u001b[0m\u001b[0;34m]\u001b[0m\u001b[0;34m)\u001b[0m\u001b[0;34m,\u001b[0m \u001b[0maxis\u001b[0m\u001b[0;34m=\u001b[0m\u001b[0;36m1\u001b[0m\u001b[0;34m)\u001b[0m\u001b[0;34m\u001b[0m\u001b[0;34m\u001b[0m\u001b[0m\n\u001b[1;32m      5\u001b[0m \u001b[0;34m\u001b[0m\u001b[0m\n",
      "\u001b[0;32m<__array_function__ internals>\u001b[0m in \u001b[0;36mconcatenate\u001b[0;34m(*args, **kwargs)\u001b[0m\n",
      "\u001b[0;31mKeyboardInterrupt\u001b[0m: "
     ]
    }
   ],
   "source": [
    "%time \n",
    "for example in range(1, len(mini_res)):\n",
    "    minX = np.concatenate((minX, mini_res[example][0]), axis=1)\n",
    "    miny = np.concatenate((miny, mini_res[example][1]), axis=1)\n",
    "    \n",
    "minX, miny = minX.T, miny.T"
   ]
  },
  {
   "cell_type": "code",
   "execution_count": 10,
   "metadata": {},
   "outputs": [],
   "source": [
    "(X, y), (validation_X, validation_y), (test_X, test_y) =  mnist_loader.perf_load_data_wrapper()"
   ]
  },
  {
   "cell_type": "markdown",
   "metadata": {},
   "source": [
    "# LEARNING\n",
    "### Neuron"
   ]
  },
  {
   "cell_type": "code",
   "execution_count": 11,
   "metadata": {},
   "outputs": [
    {
     "name": "stdout",
     "output_type": "stream",
     "text": [
      "Epoch 0 done.\n",
      "Epoch 1 done.\n",
      "Epoch 2 done.\n",
      "Epoch 3 done.\n",
      "Epoch 4 done.\n",
      "Epoch 5 done.\n",
      "Epoch 6 done.\n",
      "Epoch 7 done.\n",
      "Epoch 8 done.\n",
      "Epoch 9 done.\n",
      "Epoch 10 done.\n",
      "Epoch 11 done.\n",
      "Epoch 12 done.\n",
      "Epoch 13 done.\n",
      "Epoch 14 done.\n",
      "Epoch 15 done.\n",
      "Epoch 16 done.\n",
      "Epoch 17 done.\n",
      "Epoch 18 done.\n",
      "Epoch 19 done.\n",
      "Epoch 20 done.\n",
      "Epoch 21 done.\n",
      "Epoch 22 done.\n",
      "Epoch 23 done.\n",
      "Epoch 24 done.\n",
      "Epoch 25 done.\n",
      "Epoch 26 done.\n",
      "Epoch 27 done.\n",
      "Epoch 28 done.\n",
      "Epoch 29 done.\n",
      "Wall time: 28 s\n"
     ]
    }
   ],
   "source": [
    "%%time\n",
    "# 28 s\n",
    "# minX, miny = X[0:n], y[0:n]\n",
    "netw = network.Network([784, 30, 10])\n",
    "\n",
    "netw.SGD(X, y, epochs=nepochs, batch_size=batch_size, learning_rate = 3.);"
   ]
  },
  {
   "cell_type": "markdown",
   "metadata": {},
   "source": [
    "### Stepik"
   ]
  },
  {
   "cell_type": "code",
   "execution_count": 12,
   "metadata": {},
   "outputs": [
    {
     "name": "stdout",
     "output_type": "stream",
     "text": [
      "Epoch 0: 6859 over 10000\n",
      "Epoch 1: 8359 over 10000\n",
      "Epoch 2: 8827 over 10000\n",
      "Epoch 3: 8944 over 10000\n",
      "Epoch 4: 9032 over 10000\n",
      "Epoch 5: 9097 over 10000\n",
      "Epoch 6: 9120 over 10000\n",
      "Epoch 7: 9140 over 10000\n",
      "Epoch 8: 9169 over 10000\n",
      "Epoch 9: 9185 over 10000\n",
      "Epoch 10: 9197 over 10000\n",
      "Epoch 11: 9214 over 10000\n",
      "Epoch 12: 9223 over 10000\n",
      "Epoch 13: 9229 over 10000\n",
      "Epoch 14: 9243 over 10000\n",
      "Epoch 15: 9255 over 10000\n",
      "Epoch 16: 9260 over 10000\n",
      "Epoch 17: 9269 over 10000\n",
      "Epoch 18: 9279 over 10000\n",
      "Epoch 19: 9284 over 10000\n",
      "Epoch 20: 9293 over 10000\n",
      "Epoch 21: 9300 over 10000\n",
      "Epoch 22: 9308 over 10000\n",
      "Epoch 23: 9313 over 10000\n",
      "Epoch 24: 9319 over 10000\n",
      "Epoch 25: 9321 over 10000\n",
      "Epoch 26: 9333 over 10000\n",
      "Epoch 27: 9335 over 10000\n",
      "Epoch 28: 9341 over 10000\n",
      "Epoch 29: 9346 over 10000\n",
      "Wall time: 9min 25s\n"
     ]
    }
   ],
   "source": [
    "%%time\n",
    "# 9min 9s\n",
    "# Stepik network\n",
    "netstepik = stepik.Network([784, 30, 10])\n",
    "netstepik.SGD(mini_res, epochs=nepochs, mini_batch_size=batch_size, eta=3.0, test_data=mini_test)"
   ]
  },
  {
   "cell_type": "markdown",
   "metadata": {},
   "source": [
    "# RECON"
   ]
  },
  {
   "cell_type": "markdown",
   "metadata": {},
   "source": [
    "### Final weights"
   ]
  },
  {
   "cell_type": "code",
   "execution_count": 13,
   "metadata": {},
   "outputs": [
    {
     "name": "stdout",
     "output_type": "stream",
     "text": [
      "Layer 0 recon:  7.515368393847606e-18\n",
      "Layer 1 recon:  4.463385679572459e-16\n"
     ]
    }
   ],
   "source": [
    "for layer in range(2):\n",
    "    print(f'Layer {layer} recon: ' , (netstepik.weights[layer] - netw.weights[layer]).mean())"
   ]
  },
  {
   "cell_type": "markdown",
   "metadata": {},
   "source": [
    "### Gradient by epoch\n",
    "Should be reconciled if the mnist data is in the same order for two networks"
   ]
  },
  {
   "cell_type": "code",
   "execution_count": 8,
   "metadata": {},
   "outputs": [
    {
     "name": "stdout",
     "output_type": "stream",
     "text": [
      "           *** epoch = 0 ***\n",
      "Intercept gradient last layer  -0.04613564866013714\n",
      "Intercept gradient first layer 0.0007246531170337439\n",
      "Weights gradient last layer    -0.02423135413632399\n",
      "Weights gradient first layer   6.191611809778476e-05\n",
      "\n",
      "           *** epoch = 1 ***\n",
      "Intercept gradient last layer  -0.02783219426824715\n",
      "Intercept gradient first layer 0.0014026452530399873\n",
      "Weights gradient last layer    -0.014375282057020015\n",
      "Weights gradient first layer   0.00019702110213658773\n",
      "\n",
      "           *** epoch = 2 ***\n",
      "Intercept gradient last layer  -0.010965939841894794\n",
      "Intercept gradient first layer 0.0007923584252321453\n",
      "Weights gradient last layer    -0.005957991075160698\n",
      "Weights gradient first layer   0.00011584747251448123\n",
      "\n",
      "           *** epoch = 3 ***\n",
      "Intercept gradient last layer  -0.008162715641443104\n",
      "Intercept gradient first layer 0.0004884620156867803\n",
      "Weights gradient last layer    -0.0042965926109501595\n",
      "Weights gradient first layer   6.411502353870791e-05\n",
      "\n",
      "           *** epoch = 4 ***\n",
      "Intercept gradient last layer  -0.007256112233639608\n",
      "Intercept gradient first layer 0.00014319820349405392\n",
      "Weights gradient last layer    -0.0036210422175900567\n",
      "Weights gradient first layer   1.79145820760844e-05\n",
      "\n",
      "           *** epoch = 5 ***\n",
      "Intercept gradient last layer  -0.0055437955474017826\n",
      "Intercept gradient first layer 2.23822744952256e-05\n",
      "Weights gradient last layer    -0.002949922771952477\n",
      "Weights gradient first layer   7.823535305089499e-06\n",
      "\n",
      "           *** epoch = 6 ***\n",
      "Intercept gradient last layer  -0.009383931130510979\n",
      "Intercept gradient first layer 0.00011099853721470101\n",
      "Weights gradient last layer    -0.004884352874915204\n",
      "Weights gradient first layer   2.0707246000368466e-05\n",
      "\n",
      "           *** epoch = 7 ***\n",
      "Intercept gradient last layer  -0.009604618209122031\n",
      "Intercept gradient first layer -0.000449538315670923\n",
      "Weights gradient last layer    -0.004997554560955786\n",
      "Weights gradient first layer   -4.5988527835240754e-05\n",
      "\n",
      "           *** epoch = 8 ***\n",
      "Intercept gradient last layer  -0.003462603747567227\n",
      "Intercept gradient first layer 0.00010240242223614894\n",
      "Weights gradient last layer    -0.0017777315704062702\n",
      "Weights gradient first layer   1.7038336987969703e-05\n",
      "\n",
      "           *** epoch = 9 ***\n",
      "Intercept gradient last layer  -0.002020691667188158\n",
      "Intercept gradient first layer 7.933960316321351e-05\n",
      "Weights gradient last layer    -0.0010089963805217414\n",
      "Weights gradient first layer   1.2423845902238897e-05\n",
      "\n",
      "           *** epoch = 10 ***\n",
      "Intercept gradient last layer  -0.0008746582594277389\n",
      "Intercept gradient first layer 2.8384361022054497e-05\n",
      "Weights gradient last layer    -0.0004195672248410698\n",
      "Weights gradient first layer   4.645883805993039e-06\n",
      "\n",
      "           *** epoch = 11 ***\n",
      "Intercept gradient last layer  -0.002958761527233177\n",
      "Intercept gradient first layer 0.00039459571728305\n",
      "Weights gradient last layer    -0.001539426819566941\n",
      "Weights gradient first layer   6.166239887838672e-05\n",
      "\n",
      "           *** epoch = 12 ***\n",
      "Intercept gradient last layer  -0.00021535102229183647\n",
      "Intercept gradient first layer -4.3315396529440435e-05\n",
      "Weights gradient last layer    -7.741518821676421e-05\n",
      "Weights gradient first layer   -1.0883370811356415e-06\n",
      "\n",
      "           *** epoch = 13 ***\n",
      "Intercept gradient last layer  -0.0005701776341121184\n",
      "Intercept gradient first layer 0.00010189612449656886\n",
      "Weights gradient last layer    -0.0003225324205680249\n",
      "Weights gradient first layer   1.6760280097136645e-05\n",
      "\n",
      "           *** epoch = 14 ***\n",
      "Intercept gradient last layer  -0.0017141434548150695\n",
      "Intercept gradient first layer 8.417866852315597e-05\n",
      "Weights gradient last layer    -0.0008247061379236658\n",
      "Weights gradient first layer   1.9401426666752438e-05\n",
      "\n",
      "           *** epoch = 15 ***\n",
      "Intercept gradient last layer  0.0008446452996791469\n",
      "Intercept gradient first layer 9.449736100054037e-05\n",
      "Weights gradient last layer    0.00046607154030905225\n",
      "Weights gradient first layer   1.129911237815447e-05\n",
      "\n",
      "           *** epoch = 16 ***\n",
      "Intercept gradient last layer  -0.0008029343835299005\n",
      "Intercept gradient first layer 4.514186770527281e-05\n",
      "Weights gradient last layer    -0.0004380943314425421\n",
      "Weights gradient first layer   5.025820630564751e-06\n",
      "\n",
      "           *** epoch = 17 ***\n",
      "Intercept gradient last layer  -0.0006827760308332995\n",
      "Intercept gradient first layer 0.0001695255845566538\n",
      "Weights gradient last layer    -0.0003919642896706065\n",
      "Weights gradient first layer   2.6147878624466408e-05\n",
      "\n",
      "           *** epoch = 18 ***\n",
      "Intercept gradient last layer  -0.00031009251767026975\n",
      "Intercept gradient first layer -1.5080848918870762e-06\n",
      "Weights gradient last layer    -0.0001048977208839492\n",
      "Weights gradient first layer   1.220852405825854e-05\n",
      "\n",
      "           *** epoch = 19 ***\n",
      "Intercept gradient last layer  0.00036749464649730426\n",
      "Intercept gradient first layer 7.240030852662036e-05\n",
      "Weights gradient last layer    0.0002601008748474635\n",
      "Weights gradient first layer   8.606836121811778e-06\n",
      "\n",
      "           *** epoch = 20 ***\n",
      "Intercept gradient last layer  -0.0001541769169242268\n",
      "Intercept gradient first layer 1.556764454742012e-05\n",
      "Weights gradient last layer    -0.00010841045307482169\n",
      "Weights gradient first layer   6.5979398779683455e-06\n",
      "\n",
      "           *** epoch = 21 ***\n",
      "Intercept gradient last layer  -0.0006487194217547771\n",
      "Intercept gradient first layer 0.00016021163690606202\n",
      "Weights gradient last layer    -0.0003033154022399099\n",
      "Weights gradient first layer   2.351198633165816e-05\n",
      "\n",
      "           *** epoch = 22 ***\n",
      "Intercept gradient last layer  -0.0006944712964487475\n",
      "Intercept gradient first layer 0.00014767447855049086\n",
      "Weights gradient last layer    -0.00036153596669643743\n",
      "Weights gradient first layer   2.236895401692854e-05\n",
      "\n",
      "           *** epoch = 23 ***\n",
      "Intercept gradient last layer  -0.00026962091073393573\n",
      "Intercept gradient first layer -1.3320567808657534e-05\n",
      "Weights gradient last layer    -0.0001311146336371775\n",
      "Weights gradient first layer   -4.490265168500981e-06\n",
      "\n",
      "           *** epoch = 24 ***\n",
      "Intercept gradient last layer  -0.0008189187688443786\n",
      "Intercept gradient first layer 0.00012179528263835986\n",
      "Weights gradient last layer    -0.000351972185950251\n",
      "Weights gradient first layer   1.4107642223807604e-05\n",
      "\n",
      "           *** epoch = 25 ***\n",
      "Intercept gradient last layer  0.00032446953481736707\n",
      "Intercept gradient first layer -0.00015503996880591688\n",
      "Weights gradient last layer    0.00021963769068813764\n",
      "Weights gradient first layer   -2.2430427852908112e-05\n",
      "\n",
      "           *** epoch = 26 ***\n",
      "Intercept gradient last layer  -0.00012036262669088554\n",
      "Intercept gradient first layer -2.6581541206140326e-05\n",
      "Weights gradient last layer    9.771055901779772e-06\n",
      "Weights gradient first layer   -2.1389108464387873e-06\n",
      "\n",
      "           *** epoch = 27 ***\n",
      "Intercept gradient last layer  0.000716022122891074\n",
      "Intercept gradient first layer 8.048278856821144e-05\n",
      "Weights gradient last layer    0.00044763106544855026\n",
      "Weights gradient first layer   1.9540135804366387e-06\n",
      "\n",
      "           *** epoch = 28 ***\n",
      "Intercept gradient last layer  -0.000312901120818756\n",
      "Intercept gradient first layer 0.00024071537033623693\n",
      "Weights gradient last layer    -0.0001471488636549395\n",
      "Weights gradient first layer   2.351250471579049e-05\n",
      "\n",
      "           *** epoch = 29 ***\n",
      "Intercept gradient last layer  0.0003099784994299508\n",
      "Intercept gradient first layer -5.1530028157486816e-05\n",
      "Weights gradient last layer    0.00031869756719702085\n",
      "Weights gradient first layer   -3.095363945399451e-06\n",
      "\n"
     ]
    }
   ],
   "source": [
    "for epoch in range(nepochs):\n",
    "    print(f'           *** epoch = {epoch} ***')\n",
    "    print('Intercept gradient last layer ', (netstepik.nabla_b[epoch][1] * 1/n - netw.debug_djdb_by_batch[epoch][1]).mean())\n",
    "    print('Intercept gradient first layer', (netstepik.nabla_b[epoch][0] * 1/n - netw.debug_djdb_by_batch[epoch][0]).mean())\n",
    "    print('Weights gradient last layer   ', (netstepik.nabla_w[epoch][1] * 1/n - netw.debug_djdw_by_batch[epoch][1]).mean())\n",
    "    print('Weights gradient first layer  ', (netstepik.nabla_w[epoch][0] * 1/n - netw.debug_djdw_by_batch[epoch][0]).mean())\n",
    "    print('')"
   ]
  },
  {
   "cell_type": "code",
   "execution_count": 21,
   "metadata": {},
   "outputs": [
    {
     "data": {
      "text/plain": [
       "<matplotlib.axes._subplots.AxesSubplot at 0x24b527220f0>"
      ]
     },
     "execution_count": 21,
     "metadata": {},
     "output_type": "execute_result"
    },
    {
     "data": {
      "image/png": "[encoded data removed]",
      "text/plain": [
       "<Figure size 432x288 with 2 Axes>"
      ]
     },
     "metadata": {
      "needs_background": "light"
     },
     "output_type": "display_data"
    }
   ],
   "source": [
    "sns.heatmap(netw.weights[0][27].reshape(28,28))"
   ]
  },
  {
   "cell_type": "code",
   "execution_count": null,
   "metadata": {},
   "outputs": [],
   "source": []
  }
 ],
 "metadata": {
  "kernelspec": {
   "display_name": "Python 3",
   "language": "python",
   "name": "python3"
  },
  "language_info": {
   "codemirror_mode": {
    "name": "ipython",
    "version": 3
   },
   "file_extension": ".py",
   "mimetype": "text/x-python",
   "name": "python",
   "nbconvert_exporter": "python",
   "pygments_lexer": "ipython3",
   "version": "3.7.1"
  }
 },
 "nbformat": 4,
 "nbformat_minor": 4
}
