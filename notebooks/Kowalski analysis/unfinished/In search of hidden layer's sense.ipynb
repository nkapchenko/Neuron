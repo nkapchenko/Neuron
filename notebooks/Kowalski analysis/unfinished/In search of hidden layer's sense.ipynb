{
 "cells": [
  {
   "cell_type": "code",
   "execution_count": 1,
   "metadata": {},
   "outputs": [],
   "source": [
    "from neuron.mnist import mnist_loader\n",
    "import neuron.network as network\n",
    "import matplotlib.pyplot as plt\n",
    "import matplotlib.cm as cm\n",
    "import numpy as np\n",
    "import pandas as pd\n",
    "import seaborn as sns\n",
    "\n",
    "np.set_printoptions(precision=5)\n",
    "\n",
    "% load_ext autoreload\n",
    "% autoreload 2"
   ]
  },
  {
   "cell_type": "markdown",
   "metadata": {},
   "source": [
    "# Data description"
   ]
  },
  {
   "cell_type": "markdown",
   "metadata": {},
   "source": [
    "# LEARNING"
   ]
  },
  {
   "cell_type": "code",
   "execution_count": null,
   "metadata": {},
   "outputs": [
    {
     "name": "stdout",
     "output_type": "stream",
     "text": [
      "Epoch 0 done.\n",
      "Epoch 1 done.\n",
      "Epoch 2 done.\n",
      "Epoch 3 done.\n",
      "Epoch 4 done.\n",
      "Epoch 5 done.\n",
      "Epoch 6 done.\n",
      "Epoch 7 done.\n",
      "Epoch 8 done.\n",
      "Epoch 9 done.\n",
      "Epoch 10 done.\n",
      "Epoch 11 done.\n",
      "Epoch 12 done.\n",
      "Epoch 13 done.\n",
      "Epoch 14 done.\n"
     ]
    }
   ],
   "source": [
    "%%time\n",
    "(X, y), (validation_X, validation_y), (test_X, test_y) =  mnist_loader.perf_load_data_wrapper()\n",
    "\n",
    "n = 50000\n",
    "nepochs = 30\n",
    "nb_batches = 10\n",
    "batch_size = n//nb_batches \n",
    "batch_size = 10\n",
    "\n",
    "netw = network.Network([784, 30, 10])\n",
    "\n",
    "netw.SGD(X, y, epochs=nepochs, batch_size=batch_size, learning_rate = 3.);"
   ]
  },
  {
   "cell_type": "markdown",
   "metadata": {},
   "source": [
    "### In search of understanding the hidden layers"
   ]
  },
  {
   "cell_type": "code",
   "execution_count": null,
   "metadata": {},
   "outputs": [],
   "source": [
    "sns.heatmap(netw.weights[0][27].reshape(28,28))"
   ]
  },
  {
   "cell_type": "markdown",
   "metadata": {},
   "source": [
    "### What happens for particular input"
   ]
  },
  {
   "cell_type": "code",
   "execution_count": 21,
   "metadata": {},
   "outputs": [
    {
     "data": {
      "text/plain": [
       "<matplotlib.axes._subplots.AxesSubplot at 0x1f10059e898>"
      ]
     },
     "execution_count": 21,
     "metadata": {},
     "output_type": "execute_result"
    },
    {
     "data": {
      "image/png": "[encoded data removed]",
      "text/plain": [
       "<Figure size 432x288 with 2 Axes>"
      ]
     },
     "metadata": {
      "needs_background": "light"
     },
     "output_type": "display_data"
    }
   ],
   "source": [
    "sns.heatmap(validation_X[4].reshape((28, 28)))"
   ]
  },
  {
   "cell_type": "code",
   "execution_count": 128,
   "metadata": {},
   "outputs": [],
   "source": [
    "acts_for_6 = net.feedforward(validation_X[4].reshape(1, 784).T)"
   ]
  },
  {
   "cell_type": "code",
   "execution_count": 132,
   "metadata": {},
   "outputs": [],
   "source": [
    "acts_for_6_30 = acts_for_6[0]\n",
    "acts_for_6_answ = acts_for_6[1]"
   ]
  },
  {
   "cell_type": "code",
   "execution_count": 133,
   "metadata": {},
   "outputs": [
    {
     "data": {
      "text/plain": [
       "<matplotlib.collections.PathCollection at 0x281171bb908>"
      ]
     },
     "execution_count": 133,
     "metadata": {},
     "output_type": "execute_result"
    },
    {
     "data": {
      "image/png": "[encoded data removed]",
      "text/plain": [
       "<Figure size 432x288 with 1 Axes>"
      ]
     },
     "metadata": {
      "needs_background": "light"
     },
     "output_type": "display_data"
    }
   ],
   "source": [
    "plt.scatter(range(30), acts_for_6_30)"
   ]
  },
  {
   "cell_type": "code",
   "execution_count": 134,
   "metadata": {},
   "outputs": [
    {
     "data": {
      "text/plain": [
       "[7, 9, 10, 11, 13, 14, 17, 19, 20, 23, 25, 26, 28, 29]"
      ]
     },
     "execution_count": 134,
     "metadata": {},
     "output_type": "execute_result"
    }
   ],
   "source": [
    "[np.where(acts_for_6_30==x)[0][0] for x in acts_for_6_30 if x>0.2]"
   ]
  },
  {
   "cell_type": "code",
   "execution_count": 142,
   "metadata": {},
   "outputs": [
    {
     "data": {
      "text/plain": [
       "array([12.84676])"
      ]
     },
     "execution_count": 142,
     "metadata": {},
     "output_type": "execute_result"
    }
   ],
   "source": [
    "(net.weights[-1][6] * acts_for_6_30.T).sum() + net.biases[-1][6]"
   ]
  },
  {
   "cell_type": "code",
   "execution_count": 146,
   "metadata": {},
   "outputs": [
    {
     "data": {
      "text/plain": [
       "array([-1.75634e-08, -8.05130e-05, -9.54476e-16, -2.54559e-09,\n",
       "       -6.95692e-10, -2.91451e-14,  4.94332e-06,  1.06052e+00,\n",
       "        4.35294e-07, -1.66305e+00, -3.27810e+00,  1.57062e-01,\n",
       "       -3.05985e-07,  3.73457e+00,  3.26078e+00, -2.95671e-08,\n",
       "       -5.60768e-14,  3.22452e+00, -2.09833e-08, -5.90115e-01,\n",
       "       -5.46583e-01, -1.05207e-12, -1.71254e-14,  5.24858e+00,\n",
       "        2.40354e-27, -8.84851e-02,  7.09132e+00, -9.01748e-06,\n",
       "       -4.15436e+00,  1.31664e+00])"
      ]
     },
     "execution_count": 146,
     "metadata": {},
     "output_type": "execute_result"
    }
   ],
   "source": [
    "(net.weights[-1][6] * acts_for_6_30.T)[0]"
   ]
  },
  {
   "cell_type": "code",
   "execution_count": 149,
   "metadata": {},
   "outputs": [
    {
     "data": {
      "image/png": "[encoded data removed]",
      "text/plain": [
       "<Figure size 432x288 with 1 Axes>"
      ]
     },
     "metadata": {
      "needs_background": "light"
     },
     "output_type": "display_data"
    }
   ],
   "source": [
    "plt.scatter(range(30), (net.weights[-1][6] * acts_for_6_30.T)[0])\n",
    "plt.grid()"
   ]
  },
  {
   "cell_type": "code",
   "execution_count": 162,
   "metadata": {},
   "outputs": [
    {
     "data": {
      "image/png": "[encoded data removed]",
      "text/plain": [
       "<Figure size 432x288 with 2 Axes>"
      ]
     },
     "metadata": {
      "needs_background": "light"
     },
     "output_type": "display_data"
    }
   ],
   "source": [
    "idx = 17\n",
    "sns.heatmap(validation_X[idx].reshape((28, 28)))\n",
    "acts_for = net.feedforward(validation_X[idx].reshape(1, 784).T)\n",
    "acts_for_30 = acts_for[0]\n",
    "acts_for_answ = acts_for[1]\n"
   ]
  },
  {
   "cell_type": "code",
   "execution_count": 163,
   "metadata": {},
   "outputs": [
    {
     "data": {
      "text/plain": [
       "<matplotlib.collections.PathCollection at 0x281176c41d0>"
      ]
     },
     "execution_count": 163,
     "metadata": {},
     "output_type": "execute_result"
    },
    {
     "data": {
      "image/png": "[encoded data removed]",
      "text/plain": [
       "<Figure size 432x288 with 1 Axes>"
      ]
     },
     "metadata": {
      "needs_background": "light"
     },
     "output_type": "display_data"
    }
   ],
   "source": [
    "plt.scatter(range(30), acts_for_30)"
   ]
  },
  {
   "cell_type": "code",
   "execution_count": 153,
   "metadata": {},
   "outputs": [
    {
     "data": {
      "image/png": "[encoded data removed]",
      "text/plain": [
       "<Figure size 432x288 with 1 Axes>"
      ]
     },
     "metadata": {
      "needs_background": "light"
     },
     "output_type": "display_data"
    }
   ],
   "source": [
    "plt.scatter(range(30), (net.weights[-1][5] * acts_for_30.T)[0])\n",
    "plt.grid()"
   ]
  },
  {
   "cell_type": "code",
   "execution_count": 170,
   "metadata": {},
   "outputs": [
    {
     "data": {
      "text/plain": [
       "array([[ -8.64238],\n",
       "       [-10.38569],\n",
       "       [-16.66487],\n",
       "       [ -0.55238],\n",
       "       [-32.4262 ],\n",
       "       [  1.28997],\n",
       "       [-11.11769],\n",
       "       [-15.41616],\n",
       "       [ -3.31667],\n",
       "       [-21.27524]])"
      ]
     },
     "execution_count": 170,
     "metadata": {},
     "output_type": "execute_result"
    }
   ],
   "source": [
    "(net.weights[-1].dot(acts_for_30))"
   ]
  },
  {
   "cell_type": "code",
   "execution_count": 171,
   "metadata": {},
   "outputs": [
    {
     "data": {
      "text/plain": [
       "array([-3.42022])"
      ]
     },
     "execution_count": 171,
     "metadata": {},
     "output_type": "execute_result"
    }
   ],
   "source": [
    "net.biases[-1][5]"
   ]
  },
  {
   "cell_type": "code",
   "execution_count": 67,
   "metadata": {},
   "outputs": [
    {
     "data": {
      "text/plain": [
       "<matplotlib.axes._subplots.AxesSubplot at 0x28860e80780>"
      ]
     },
     "execution_count": 67,
     "metadata": {},
     "output_type": "execute_result"
    },
    {
     "data": {
      "image/png": "[encoded data removed]",
      "text/plain": [
       "<Figure size 1152x432 with 2 Axes>"
      ]
     },
     "metadata": {
      "needs_background": "light"
     },
     "output_type": "display_data"
    }
   ],
   "source": [
    "plt.figure(figsize=(16, 6))\n",
    "sns.heatmap(net.weights[-1])"
   ]
  },
  {
   "cell_type": "code",
   "execution_count": 126,
   "metadata": {},
   "outputs": [
    {
     "data": {
      "text/plain": [
       "<matplotlib.collections.PathCollection at 0x28117151d68>"
      ]
     },
     "execution_count": 126,
     "metadata": {},
     "output_type": "execute_result"
    },
    {
     "data": {
      "image/png": "[encoded data removed]",
      "text/plain": [
       "<Figure size 432x288 with 1 Axes>"
      ]
     },
     "metadata": {
      "needs_background": "light"
     },
     "output_type": "display_data"
    }
   ],
   "source": [
    "plt.scatter(range(30), acts_30 * net.weights[-1][6] + net.biases[-1][6])"
   ]
  },
  {
   "cell_type": "code",
   "execution_count": 127,
   "metadata": {},
   "outputs": [
    {
     "data": {
      "text/plain": [
       "-119.33286188184941"
      ]
     },
     "execution_count": 127,
     "metadata": {},
     "output_type": "execute_result"
    }
   ],
   "source": [
    "(acts_30 * net.weights[-1][5] + net.biases[-1][5]).sum()"
   ]
  },
  {
   "cell_type": "code",
   "execution_count": null,
   "metadata": {},
   "outputs": [],
   "source": []
  }
 ],
 "metadata": {
  "kernelspec": {
   "display_name": "Python 3",
   "language": "python",
   "name": "python3"
  },
  "language_info": {
   "codemirror_mode": {
    "name": "ipython",
    "version": 3
   },
   "file_extension": ".py",
   "mimetype": "text/x-python",
   "name": "python",
   "nbconvert_exporter": "python",
   "pygments_lexer": "ipython3",
   "version": "3.7.1"
  }
 },
 "nbformat": 4,
 "nbformat_minor": 4
}
