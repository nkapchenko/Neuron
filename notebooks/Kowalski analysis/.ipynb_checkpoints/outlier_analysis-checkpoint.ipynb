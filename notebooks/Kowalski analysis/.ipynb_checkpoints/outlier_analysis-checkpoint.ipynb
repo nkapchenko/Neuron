{
 "cells": [
  {
   "cell_type": "code",
   "execution_count": 13,
   "metadata": {},
   "outputs": [
    {
     "name": "stdout",
     "output_type": "stream",
     "text": [
      "The autoreload extension is already loaded. To reload it, use:\n",
      "  %reload_ext autoreload\n"
     ]
    }
   ],
   "source": [
    "from neuron.mnist import mnist_loader\n",
    "import neuron.network as network\n",
    "import matplotlib.pyplot as plt\n",
    "import matplotlib.cm as cm\n",
    "import numpy as np\n",
    "from numpy import array\n",
    "import pandas as pd\n",
    "import seaborn as sns\n",
    "\n",
    "from neuron.activation_functions import sigmoid\n",
    "from neuron.mnist import stepik_original as stepik\n",
    "\n",
    "np.set_printoptions(precision=5)\n",
    "\n",
    "% load_ext autoreload\n",
    "% autoreload 2"
   ]
  },
  {
   "cell_type": "markdown",
   "metadata": {},
   "source": [
    "# PARSE DATA"
   ]
  },
  {
   "cell_type": "code",
   "execution_count": 24,
   "metadata": {},
   "outputs": [],
   "source": [
    "training_data, validation_data, test_data =  mnist_loader.load_data_wrapper()\n",
    "\n",
    "n = 50000\n",
    "nepochs = 30\n",
    "nb_batches = 10\n",
    "batch_size = n//nb_batches \n",
    "batch_size = 10\n",
    "\n",
    "mini_res = list(training_data)[0:n]\n",
    "mini_test = list(test_data)[0:n]\n",
    "\n",
    "# to have the same data\n",
    "minX = np.array(mini_res[0][0])\n",
    "miny = np.array(mini_res[0][1])"
   ]
  },
  {
   "cell_type": "code",
   "execution_count": 3,
   "metadata": {},
   "outputs": [],
   "source": [
    "# %time \n",
    "# for example in range(1, len(mini_res)):\n",
    "#     minX = np.concatenate((minX, mini_res[example][0]), axis=1)\n",
    "#     miny = np.concatenate((miny, mini_res[example][1]), axis=1)\n",
    "    \n",
    "# minX, miny = minX.T, miny.T"
   ]
  },
  {
   "cell_type": "code",
   "execution_count": 4,
   "metadata": {},
   "outputs": [],
   "source": [
    "(X, y), (validation_X, validation_y), (test_X, test_y) =  mnist_loader.perf_load_data_wrapper()"
   ]
  },
  {
   "cell_type": "markdown",
   "metadata": {},
   "source": [
    "# LEARNING\n",
    "### Neuron"
   ]
  },
  {
   "cell_type": "code",
   "execution_count": 6,
   "metadata": {},
   "outputs": [
    {
     "name": "stdout",
     "output_type": "stream",
     "text": [
      "Epoch 0 done.\n",
      "Epoch 1 done.\n",
      "Epoch 2 done.\n",
      "Epoch 3 done.\n",
      "Epoch 4 done.\n",
      "Epoch 5 done.\n",
      "Epoch 6 done.\n",
      "Epoch 7 done.\n",
      "Epoch 8 done.\n",
      "Epoch 9 done.\n",
      "Epoch 10 done.\n",
      "Epoch 11 done.\n",
      "Epoch 12 done.\n",
      "Epoch 13 done.\n",
      "Epoch 14 done.\n",
      "Epoch 15 done.\n",
      "Epoch 16 done.\n",
      "Epoch 17 done.\n",
      "Epoch 18 done.\n",
      "Epoch 19 done.\n",
      "Epoch 20 done.\n",
      "Epoch 21 done.\n",
      "Epoch 22 done.\n",
      "Epoch 23 done.\n",
      "Epoch 24 done.\n",
      "Epoch 25 done.\n",
      "Epoch 26 done.\n",
      "Epoch 27 done.\n",
      "Epoch 28 done.\n",
      "Epoch 29 done.\n"
     ]
    }
   ],
   "source": [
    "# my network\n",
    "# minX, miny = X[0:n], y[0:n]\n",
    "netw = network.Network([784, 30, 10])\n",
    "\n",
    "netw.SGD(X, y, epochs=nepochs, batch_size=batch_size, learning_rate = 3.);"
   ]
  },
  {
   "cell_type": "markdown",
   "metadata": {},
   "source": [
    "### Stepik"
   ]
  },
  {
   "cell_type": "code",
   "execution_count": 7,
   "metadata": {},
   "outputs": [
    {
     "name": "stdout",
     "output_type": "stream",
     "text": [
      "Epoch 0: 6859 over 10000\n",
      "Epoch 1: 8359 over 10000\n",
      "Epoch 2: 8827 over 10000\n",
      "Epoch 3: 8944 over 10000\n",
      "Epoch 4: 9032 over 10000\n",
      "Epoch 5: 9097 over 10000\n",
      "Epoch 6: 9120 over 10000\n",
      "Epoch 7: 9140 over 10000\n",
      "Epoch 8: 9169 over 10000\n",
      "Epoch 9: 9185 over 10000\n",
      "Epoch 10: 9197 over 10000\n",
      "Epoch 11: 9214 over 10000\n",
      "Epoch 12: 9223 over 10000\n",
      "Epoch 13: 9229 over 10000\n",
      "Epoch 14: 9243 over 10000\n",
      "Epoch 15: 9255 over 10000\n",
      "Epoch 16: 9260 over 10000\n",
      "Epoch 17: 9269 over 10000\n",
      "Epoch 18: 9279 over 10000\n",
      "Epoch 19: 9284 over 10000\n",
      "Epoch 20: 9293 over 10000\n",
      "Epoch 21: 9300 over 10000\n",
      "Epoch 22: 9308 over 10000\n",
      "Epoch 23: 9313 over 10000\n",
      "Epoch 24: 9319 over 10000\n",
      "Epoch 25: 9321 over 10000\n",
      "Epoch 26: 9333 over 10000\n",
      "Epoch 27: 9335 over 10000\n",
      "Epoch 28: 9341 over 10000\n",
      "Epoch 29: 9346 over 10000\n"
     ]
    }
   ],
   "source": [
    "# Stepik network\n",
    "netstepik = stepik.Network([784, 30, 10])\n",
    "netstepik.SGD(mini_res, epochs=nepochs, mini_batch_size=batch_size, eta=3.0, test_data=mini_test)"
   ]
  },
  {
   "cell_type": "markdown",
   "metadata": {},
   "source": [
    "# RECON"
   ]
  },
  {
   "cell_type": "markdown",
   "metadata": {},
   "source": [
    "### Final weights"
   ]
  },
  {
   "cell_type": "code",
   "execution_count": 8,
   "metadata": {},
   "outputs": [
    {
     "name": "stdout",
     "output_type": "stream",
     "text": [
      "Layer 0 recon:  7.515368393847606e-18\n",
      "Layer 1 recon:  4.463385679572459e-16\n"
     ]
    }
   ],
   "source": [
    "for layer in range(2):\n",
    "    print(f'Layer {layer} recon: ' , (netstepik.weights[layer] - netw.weights[layer]).mean())"
   ]
  },
  {
   "cell_type": "code",
   "execution_count": 44,
   "metadata": {},
   "outputs": [],
   "source": [
    "valid_y = array([np.argmax(y) for y in validation_y])\n",
    "valid_ans_stepik = array([np.argmax(ans) for ans in netstepik.feedforward(validation_X.T).T])\n",
    "valid_ans = array([np.argmax(ans) for ans in netw.progonka(validation_X)])"
   ]
  },
  {
   "cell_type": "code",
   "execution_count": 46,
   "metadata": {},
   "outputs": [
    {
     "data": {
      "text/plain": [
       "9366"
      ]
     },
     "execution_count": 46,
     "metadata": {},
     "output_type": "execute_result"
    }
   ],
   "source": [
    "sum([int(a==b) for a,b in zip(valid_ans, valid_y)])"
   ]
  },
  {
   "cell_type": "code",
   "execution_count": 47,
   "metadata": {},
   "outputs": [
    {
     "data": {
      "text/plain": [
       "9366"
      ]
     },
     "execution_count": 47,
     "metadata": {},
     "output_type": "execute_result"
    }
   ],
   "source": [
    "sum([int(a==b) for a,b in zip(valid_ans_stepik, valid_y)])"
   ]
  },
  {
   "cell_type": "code",
   "execution_count": 91,
   "metadata": {},
   "outputs": [
    {
     "data": {
      "text/plain": [
       "array([ 17,  52,  70,  71,  78,  79,  90,  91, 120, 149, 155, 202, 212,\n",
       "       228, 233, 236, 239, 246, 274, 302], dtype=int64)"
      ]
     },
     "execution_count": 91,
     "metadata": {},
     "output_type": "execute_result"
    }
   ],
   "source": [
    "np.argwhere(array([int(a==b) for a,b in zip(valid_ans_stepik, valid_y)])==0)[0:20].T[0]"
   ]
  },
  {
   "cell_type": "code",
   "execution_count": null,
   "metadata": {},
   "outputs": [],
   "source": [
    "sns.heatmap(netw.progonka(validation_X)[0:18])"
   ]
  },
  {
   "cell_type": "code",
   "execution_count": 82,
   "metadata": {},
   "outputs": [
    {
     "name": "stdout",
     "output_type": "stream",
     "text": [
      "Real answer is 9\n",
      "Model predicts 4\n"
     ]
    },
    {
     "data": {
      "image/png": "[encoded data removed]",
      "text/plain": [
       "<Figure size 432x288 with 1 Axes>"
      ]
     },
     "metadata": {
      "needs_background": "light"
     },
     "output_type": "display_data"
    }
   ],
   "source": [
    "i = 79\n",
    "xx = netw.progonka(validation_X[i].reshape(1,784))[0]\n",
    "plt.plot(xx);\n",
    "print('Real answer is', valid_y[i])\n",
    "print('Model predicts', valid_ans[i])"
   ]
  },
  {
   "cell_type": "code",
   "execution_count": 83,
   "metadata": {},
   "outputs": [
    {
     "data": {
      "text/plain": [
       "<matplotlib.axes._subplots.AxesSubplot at 0x19a95009e48>"
      ]
     },
     "execution_count": 83,
     "metadata": {},
     "output_type": "execute_result"
    },
    {
     "data": {
      "image/png": "[encoded data removed]",
      "text/plain": [
       "<Figure size 432x288 with 2 Axes>"
      ]
     },
     "metadata": {
      "needs_background": "light"
     },
     "output_type": "display_data"
    }
   ],
   "source": [
    "sns.heatmap(validation_X[i].reshape(28, 28))"
   ]
  },
  {
   "cell_type": "code",
   "execution_count": null,
   "metadata": {},
   "outputs": [],
   "source": []
  }
 ],
 "metadata": {
  "kernelspec": {
   "display_name": "Python 3",
   "language": "python",
   "name": "python3"
  },
  "language_info": {
   "codemirror_mode": {
    "name": "ipython",
    "version": 3
   },
   "file_extension": ".py",
   "mimetype": "text/x-python",
   "name": "python",
   "nbconvert_exporter": "python",
   "pygments_lexer": "ipython3",
   "version": "3.7.1"
  }
 },
 "nbformat": 4,
 "nbformat_minor": 4
}
